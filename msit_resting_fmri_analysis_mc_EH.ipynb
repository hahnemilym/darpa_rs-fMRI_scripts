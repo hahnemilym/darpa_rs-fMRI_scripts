{
 "cells": [
  {
   "cell_type": "markdown",
   "metadata": {},
   "source": [
    "# DARPA Resting State fMRI Analysis Tutorial"
   ]
  },
  {
   "cell_type": "markdown",
   "metadata": {},
   "source": [
    "## Step 1: Preprocessing fMRI Data\n",
    "This section covers ______."
   ]
  },
  {
   "cell_type": "markdown",
   "metadata": {},
   "source": [
    "## Step 3: Generate Nuisance Regressors for \n",
    "This section creates custom nuisance regressors for use in the first-level analysis. Specifically, the script creates (1) demeaned, detrended, and orthogonalized motion regressors that explain 90% of the variance in the motion; and (2) the timepoints to censor based on functional displacement (FD; Power et al. 2012, 2014) values. Users will specify which FD thresholds to use to create subject-specific timepoint censoring files to be used in the first level analyses. "
   ]
  },
  {
   "cell_type": "code",
   "execution_count": 1,
   "metadata": {
    "ExecuteTime": {
     "end_time": "2018-12-14T19:48:25.230845Z",
     "start_time": "2018-12-14T19:48:23.959017Z"
    }
   },
   "outputs": [
    {
     "name": "stdout",
     "output_type": "stream",
     "text": [
      "Done.\n",
      "Done.\n",
      "Done.\n",
      "Done.\n",
      "Done.\n",
      "Done.\n",
      "Done.\n",
      "Done.\n",
      "Done.\n",
      "Done.\n",
      "Done.\n",
      "Done.\n",
      "Done.\n",
      "Done.\n",
      "Done.\n",
      "Done.\n",
      "Done.\n",
      "Done.\n",
      "Done.\n",
      "Done.\n",
      "Done.\n",
      "Done.\n",
      "Done.\n",
      "Done.\n",
      "Done.\n",
      "Done.\n",
      "Done.\n",
      "Done.\n",
      "Done.\n",
      "Done.\n",
      "Done.\n",
      "Done.\n",
      "Done.\n",
      "Done.\n",
      "Done.\n",
      "Done.\n",
      "Done.\n",
      "Done.\n",
      "Done.\n",
      "Done.\n"
     ]
    }
   ],
   "source": [
    "import os\n",
    "import numpy as np\n",
    "import pylab as plt\n",
    "from pandas import read_csv\n",
    "from scipy.io import savemat\n",
    "from scipy.stats import probplot\n",
    "from scipy.signal import detrend\n",
    "from sklearn.decomposition import PCA\n",
    "\n",
    "# subjlist = ['hc001']\n",
    "\n",
    "rs_params = '/autofs/space/lilli_003/users/DARPA-RestingState/RS_parameters/rs_subjects_12-2-18.txt'\n",
    "\n",
    "with open (rs_params) as subjlist:\n",
    "    \n",
    "    for subject in subjlist:\n",
    "        \n",
    "        subject = subject.strip()\n",
    "\n",
    "        #~~~~~~~~~~~~~~~~~~~~~~~~~~~~~~~~~~~~~~~~~~~~~~~~#\n",
    "        ### Define parameters.\n",
    "        #~~~~~~~~~~~~~~~~~~~~~~~~~~~~~~~~~~~~~~~~~~~~~~~~#\n",
    "\n",
    "        ## Define acquisition parameters.    \n",
    "        n_acq = 124\n",
    "        tr = 3\n",
    "\n",
    "        ## Scrubbing parameters.\n",
    "        thresholds = [0.0, 0.5, 1.0, 1.5]\n",
    "\n",
    "        #~~~~~~~~~~~~~~~~~~~~~~~~~~~~~~~~~~~~~~~~~~~~~~~~#\n",
    "        ### Compute framewise displacement.\n",
    "        #~~~~~~~~~~~~~~~~~~~~~~~~~~~~~~~~~~~~~~~~~~~~~~~~#\n",
    "\n",
    "        ## Read motion data.\n",
    "        out_dir = '/autofs/space/lilli_003/users/DARPA-RestingState/%s/rest_001/001' %subject\n",
    "        mc = os.path.join(out_dir, 'fmcpr.mcdat')\n",
    "        mc = np.loadtxt(mc)[:,1:7]\n",
    "\n",
    "        ## Invert angular displacement.\n",
    "        fd = mc.copy()\n",
    "        fd[:,:3] = np.deg2rad(fd[:,:3]) \n",
    "        fd[:,:3] *= 50\n",
    "\n",
    "        ## Compute framewise displacement (See Power 2012, 2014).\n",
    "        fd = np.insert( np.abs( np.diff(fd, axis=0) ).sum(axis=1), 0, 0 )\n",
    "\n",
    "        #~~~~~~~~~~~~~~~~~~~~~~~~~~~~~~~~~~~~~~~~~~~~~~~~#\n",
    "        ### Compute motion regressors.\n",
    "        #~~~~~~~~~~~~~~~~~~~~~~~~~~~~~~~~~~~~~~~~~~~~~~~~#\n",
    "\n",
    "        ## Remove trends.\n",
    "        mc = detrend(mc, axis=0, type='constant')\n",
    "        mc = detrend(mc, axis=0, type='linear')\n",
    "\n",
    "        ## Perform PCA.\n",
    "        pca = PCA(n_components=6)\n",
    "        mc = pca.fit_transform(mc)\n",
    "\n",
    "        ## Take only the number of components explaining 90% of the variance.\n",
    "        varexp = np.cumsum(pca.explained_variance_ratio_)\n",
    "        n_components = np.argmax(varexp >= 0.9) + 1\n",
    "        mc = mc[:,:n_components]\n",
    "\n",
    "        ## Save motion regressor.\n",
    "        f = os.path.join(out_dir, 'rest.mc.txt')\n",
    "        np.savetxt(f, mc, fmt='%s')\n",
    "\n",
    "        #~~~~~~~~~~~~~~~~~~~~~~~~~~~~~~~~~~~~~~~~~~~~~~~~#\n",
    "        ### Write scrubbers.\n",
    "        #~~~~~~~~~~~~~~~~~~~~~~~~~~~~~~~~~~~~~~~~~~~~~~~~#\n",
    "\n",
    "        ## Define TR onsets.\n",
    "        tr_onsets = np.insert( np.cumsum( np.ones(n_acq - 1) * tr ), 0, 0 )\n",
    "\n",
    "        for threshold in thresholds:\n",
    "\n",
    "            ## Find threshold violations.\n",
    "            if not threshold: ix, = np.where(fd >= np.inf)\n",
    "            else: ix, = np.where(fd >= threshold)\n",
    "\n",
    "            ## Save.\n",
    "    #         f = os.path.join(out_dir, 'rest.censor.%s.par' %threshold)\n",
    "            f = os.path.join(out_dir, 'rest.censor.par')\n",
    "            if len(ix): np.savetxt(f, tr_onsets[ix,np.newaxis], fmt='%s')\n",
    "\n",
    "        print 'Done.'"
   ]
  },
  {
   "cell_type": "markdown",
   "metadata": {},
   "source": [
    "## Step 4: Decide on Censor Level\n",
    "This section will create a summary file for specified subjects and FD thresholds describing how many volumes (acquisitions) will be censored if the user chooses a specific FD threshold. The summary file is written to the fMRI folder."
   ]
  },
  {
   "cell_type": "code",
   "execution_count": null,
   "metadata": {
    "ExecuteTime": {
     "end_time": "2018-07-16T18:55:02.150465Z",
     "start_time": "2018-07-16T18:55:02.097192Z"
    }
   },
   "outputs": [],
   "source": [
    "import os\n",
    "from pandas import DataFrame, Series\n",
    "\n",
    "#~~~~~~~~~~~~~~~~~~~~~~~~~~~~~~~~~~~~~~~~~~~~~~~~#\n",
    "### Define parameters.\n",
    "#~~~~~~~~~~~~~~~~~~~~~~~~~~~~~~~~~~~~~~~~~~~~~~~~#\n",
    "\n",
    "## Define subjects.\n",
    "subjects = ['hc001']\n",
    "\n",
    "## Scrubbing parameters.\n",
    "thresholds = [0.0, 0.5, 1.0, 1.5]\n",
    "\n",
    "#~~~~~~~~~~~~~~~~~~~~~~~~~~~~~~~~~~~~~~~~~~~~~~~~#\n",
    "### Make summary file.\n",
    "#~~~~~~~~~~~~~~~~~~~~~~~~~~~~~~~~~~~~~~~~~~~~~~~~#\n",
    "\n",
    "columns = ['Subject'] + ['FD=%s' %fd for fd in thresholds]\n",
    "df = DataFrame([],columns=columns)\n",
    "\n",
    "for subject in subjects:\n",
    "    \n",
    "    ## Initialize.\n",
    "    info = Series()\n",
    "    info['Subject'] = subject\n",
    "    \n",
    "    ## Iteratively lookup and store information.\n",
    "    for fd in thresholds:\n",
    "        f = '/autofs/space/lilli_003/users/DARPA-RestingState/%s/RS.censor.par' %(subject)\n",
    "        if os.path.isfile(f): info['FD=%s' %fd] = len(open(f,'r').readlines())\n",
    "        else: info['FD=%s' %fd] = 0\n",
    "            \n",
    "    ## Append information.\n",
    "    df = df.append(info, ignore_index=True)\n",
    "    \n",
    "## Save.\n",
    "df.to_csv('fmri/msit_censor_summary.csv', index=False)\n",
    "print 'Done.'"
   ]
  },
  {
   "cell_type": "markdown",
   "metadata": {},
   "source": [
    "## Step 3: Visualize using MMVT"
   ]
  },
  {
   "cell_type": "code",
   "execution_count": null,
   "metadata": {
    "collapsed": true
   },
   "outputs": [],
   "source": []
  }
 ],
 "metadata": {
  "hide_input": false,
  "kernelspec": {
   "display_name": "Python 2",
   "language": "python",
   "name": "python2"
  },
  "language_info": {
   "codemirror_mode": {
    "name": "ipython",
    "version": 2
   },
   "file_extension": ".py",
   "mimetype": "text/x-python",
   "name": "python",
   "nbconvert_exporter": "python",
   "pygments_lexer": "ipython2",
   "version": "2.7.13"
  },
  "nav_menu": {},
  "toc": {
   "colors": {
    "hover_highlight": "#DAA520",
    "navigate_num": "#000000",
    "navigate_text": "#333333",
    "running_highlight": "#FF0000",
    "selected_highlight": "#FFD700",
    "sidebar_border": "#EEEEEE",
    "wrapper_background": "#FFFFFF"
   },
   "moveMenuLeft": true,
   "nav_menu": {
    "height": "315px",
    "width": "252px"
   },
   "navigate_menu": true,
   "number_sections": false,
   "sideBar": true,
   "threshold": 4,
   "toc_cell": false,
   "toc_position": {
    "height": "36px",
    "left": "0px",
    "right": "1712px",
    "top": "52px",
    "width": "206px"
   },
   "toc_section_display": "none",
   "toc_window_display": true,
   "widenNotebook": false
  },
  "toc_position": {
   "height": "640px",
   "left": "0px",
   "right": "1156.8px",
   "top": "131px",
   "width": "379px"
  },
  "varInspector": {
   "cols": {
    "lenName": 16,
    "lenType": 16,
    "lenVar": 40
   },
   "kernels_config": {
    "python": {
     "delete_cmd_postfix": "",
     "delete_cmd_prefix": "del ",
     "library": "var_list.py",
     "varRefreshCmd": "print(var_dic_list())"
    },
    "r": {
     "delete_cmd_postfix": ") ",
     "delete_cmd_prefix": "rm(",
     "library": "var_list.r",
     "varRefreshCmd": "cat(var_dic_list()) "
    }
   },
   "types_to_exclude": [
    "module",
    "function",
    "builtin_function_or_method",
    "instance",
    "_Feature"
   ],
   "window_display": false
  }
 },
 "nbformat": 4,
 "nbformat_minor": 2
}

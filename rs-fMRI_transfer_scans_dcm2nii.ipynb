{
 "cells": [
  {
   "cell_type": "code",
   "execution_count": 1,
   "metadata": {
    "ExecuteTime": {
     "end_time": "2018-12-14T06:08:24.992911Z",
     "start_time": "2018-12-14T06:08:24.372454Z"
    },
    "collapsed": true
   },
   "outputs": [],
   "source": [
    "import os\n",
    "import os\n",
    "import csv\n",
    "import copy\n",
    "import fnmatch\n",
    "import collections\n",
    "import numpy as np\n",
    "import collections\n",
    "import pandas as pd\n",
    "from subprocess import call\n",
    "from itertools import repeat\n",
    "from itertools import dropwhile\n",
    "from IPython.display import display\n",
    "from pandas import read_csv, DataFrame, Index, MultiIndex"
   ]
  },
  {
   "cell_type": "code",
   "execution_count": 9,
   "metadata": {
    "ExecuteTime": {
     "end_time": "2018-12-14T06:21:33.168178Z",
     "start_time": "2018-12-14T06:21:33.114919Z"
    }
   },
   "outputs": [
    {
     "name": "stdout",
     "output_type": "stream",
     "text": [
      "HC027_01 has more than one DICOM directory: \n",
      "             (1) Manually convert DICOM to NIFTI before proceeding to the next step \n",
      "             (2) Remove negligible cmd from dcm2nii.csh\n",
      "HC047_01 has more than one DICOM directory: \n",
      "             (1) Manually convert DICOM to NIFTI before proceeding to the next step \n",
      "             (2) Remove negligible cmd from dcm2nii.csh\n"
     ]
    }
   ],
   "source": [
    "#--------------------------------#\n",
    "# Configure directory parameters #\n",
    "#--------------------------------#\n",
    "\n",
    "dir = '/autofs/space/lilli_001/users/DARPA-Scripts/tutorials/darpa_resting_state_EH/misc'\n",
    "file = 'cp_nii.txt'\n",
    "\n",
    "raw_data = '/autofs/space/lilli_003/users/DARPA-TRANSFER/mri/'\n",
    "\n",
    "scan_dir = '/autofs/space/lilli_003/users/DARPA-RestingState/'\n",
    "params_dir = 'RS_parameters'\n",
    "scan_type = 'resting'\n",
    "fsd = 'rest_001'\n",
    "subdir_fsd = '001'\n",
    "\n",
    "\n",
    "#-------------------#\n",
    "# Initiate function #\n",
    "#-------------------#\n",
    "\n",
    "def dcm2nii(dir,file,raw_data,scan_dir,scan_type,fsd,subdir_fsd,params_dir):\n",
    "    subj_list = []\n",
    "    raw_dcms_list=[]\n",
    "    raw_subjs = []\n",
    "    test=[]\n",
    "    correct_subs =[]\n",
    "\n",
    "    with open('%s/%s' % (dir, file) ,'r') as in_txt:\n",
    "        for line in in_txt:\n",
    "            subj_list.append(line.strip())\n",
    "\n",
    "    with open('%s/dcm2nii.csh' % os.path.join(scan_dir, params_dir) ,'w') as dcm2nii_convert:\n",
    "        for subject in subj_list:\n",
    "            raw_scan_path = os.path.join(raw_data, subject, scan_type)\n",
    "            for dcm_dir in os.listdir(raw_scan_path):\n",
    "                if fnmatch.fnmatch(dcm_dir, '*0*'):\n",
    "                    raw_subjs.append(subject)\n",
    "                    scan_subdir = os.path.join(raw_scan_path,dcm_dir)\n",
    "                    dcm2nii_convert.write('set files = %s/*MR*; mri_convert ${files[2]} %s/f.nii;\\n' % \\\n",
    "                                          (scan_subdir,os.path.join(scan_dir,subject.lower()[0:5],fsd,subdir_fsd)))\n",
    "        duplicates = [item for item, count in collections.Counter(raw_subjs).items() if count > 1]\n",
    "        for dup in duplicates:\n",
    "            print('%s has more than one DICOM directory: \\n \\\n",
    "            (1) Manually convert DICOM to NIFTI before proceeding to the next step \\n \\\n",
    "            (2) Remove negligible cmd from dcm2nii.csh' % dup)\n",
    "    return\n",
    "\n",
    "#----------------#\n",
    "## Call function #\n",
    "#----------------#\n",
    "\n",
    "dcm2nii(dir,file,raw_data,scan_dir,scan_type,fsd,subdir_fsd,params_dir)"
   ]
  },
  {
   "cell_type": "markdown",
   "metadata": {
    "ExecuteTime": {
     "end_time": "2018-12-14T01:52:45.300215Z",
     "start_time": "2018-12-14T01:52:45.278627Z"
    },
    "collapsed": true
   },
   "source": [
    "# The following code is a **DRAFT** for fully unpacking scans and then converting dcm 2 nii\n",
    "please treat it as such"
   ]
  },
  {
   "cell_type": "code",
   "execution_count": null,
   "metadata": {
    "ExecuteTime": {
     "end_time": "2018-12-14T05:45:15.835296Z",
     "start_time": "2018-12-14T05:45:15.800460Z"
    }
   },
   "outputs": [],
   "source": [
    "# %%bash\n",
    "os.system('set files = /autofs/space/lilli_003/users/DARPA-TRANSFER/mri/HC013_01/resting/008/*MR*; echo \"${files[2]}\";')\n",
    "os.system('')\n",
    "\n",
    "# set indir = /autofs/space/lilli_001/users/DARPA-Scripts/tutorials/darpa_resting_state_EH/misc/\n",
    "# set subjects = $indir/cp_nii.txt\n",
    "# for subject in `cat $subjects`; do\n",
    "# # destdir=(/autofs/space/lilli_003/users/DARPA-TRANSFER/mri/{$subj})\n",
    "#     echo subject\n",
    "# # list=$(ls /008/MR*)\n",
    "# # relist=${list[1]} \n",
    "# # echo $relist > $destdi/resting.nii\n",
    "# done"
   ]
  },
  {
   "cell_type": "markdown",
   "metadata": {},
   "source": [
    "## Set up Environment"
   ]
  },
  {
   "cell_type": "code",
   "execution_count": null,
   "metadata": {
    "collapsed": true
   },
   "outputs": [],
   "source": [
    "new_ARC = ('/autofs/space/will_001/users/TLC/pilot_1st20subj/MGH')\n",
    "os.system('findsession -p res > FINDSESS.txt')\n",
    "os.system('cd $new_ARC | touch subjlist.txt scan.txt unpacksdcmdir_1.csh unpacksdcmdir_2.csh')\n",
    "\n",
    "transfer_scanlist=[]\n",
    "subject_list=[]\n",
    "\n",
    "unpack_log='unpack.log'\n",
    "raw_cfg= 'cfg_raw.txt'\n",
    "new_cfg='cfg.txt'"
   ]
  },
  {
   "cell_type": "markdown",
   "metadata": {},
   "source": [
    "## Generate Subject and Scan lists"
   ]
  },
  {
   "cell_type": "code",
   "execution_count": null,
   "metadata": {
    "collapsed": true
   },
   "outputs": [],
   "source": [
    "##   NOTE: THIS WILL GENERATE SUBJECT AND         ##\n",
    "##   SCAN LISTS FROM BOURGET - PROJECT CODE BFR   ##\n",
    "##   MODIFY subjlist.txt AND scan.txt ACCORDINGLY ##\n",
    "\n",
    "def get_scans_subjects(path):\n",
    "    with open('%s/FINDSESS.txt' % path ,'r') as in_txt, \\\n",
    "        open('%s/subjlist.txt' % path ,'w') as sublist, \\\n",
    "        open('%s/scan.txt' % path ,'w') as scanlist:\n",
    "        for line in in_txt:\n",
    "                if 'SUBJECT' in line:\n",
    "                    sub=line.strip('SUBJECT:  ')\n",
    "                    sublist.write('%s \\n' % sub.strip())\n",
    "                    subject_list.append(sub)\n",
    "                elif 'PATH' in line:\n",
    "                    scan=line.strip('PATH   :')\n",
    "                    scanlist.write('%s \\n' % scan.strip())\n",
    "                    transfer_scanlist.append(sub)\n",
    "    return\n",
    "\n",
    "get_scans_subjects(new_ARC)"
   ]
  },
  {
   "cell_type": "markdown",
   "metadata": {},
   "source": [
    "## unpackdcmsdir - 1"
   ]
  },
  {
   "cell_type": "code",
   "execution_count": null,
   "metadata": {
    "collapsed": true
   },
   "outputs": [],
   "source": [
    "def unpacksdcmdir_step1(path):\n",
    "    with open('%s/subjlist.txt' % path ,'r') as sublist, \\\n",
    "        open('%s/scan.txt' % path ,'r') as scanlist, \\\n",
    "        open('%s/unpacksdcmdir_1.csh' % path ,'w') as unpacksdcmdir_1:\n",
    "        for scan,subject in zip(scanlist,sublist):\n",
    "            unpacksdcmdir_1.write('unpacksdcmdir -src %s -targ %s/%s -scanonly %s/%s/%s \\n' \\\n",
    "            % (scan.strip(), path, subject.strip(), path, subject.strip(), new_cfg))\n",
    "        print \"Next: source unpacksdcmdir_1.csh\"\n",
    "    return\n",
    "\n",
    "unpacksdcmdir_step1(new_ARC)\n",
    "\n",
    "#----------------------------#\n",
    "# source .csh from Py - BETA #\n",
    "#----------------------------#\n",
    "\n",
    "# from subprocess import call\n",
    "# os.system('source %s/unpacksdcmdir_1.csh' % new_ARC)\n",
    "\n",
    "#  unpacksdcmdir_1 = 'unpacksdcmdir -src %s -targ %s/%s -scanonly %s/%s/%s' % (scan, new_ARC, subject, new_ARC, subject, new_cfg)\n",
    "#  call(unpacksdcmdir_1,env=os.environ,shell=True)"
   ]
  },
  {
   "cell_type": "markdown",
   "metadata": {},
   "source": [
    "## Create Configuration File"
   ]
  },
  {
   "cell_type": "code",
   "execution_count": null,
   "metadata": {
    "collapsed": true
   },
   "outputs": [],
   "source": [
    "\n",
    "x2={'a':[],'b':[],'c':[],'d':[]}\n",
    "def read_write_cfg(path,subject,unpack_log,raw_cfg): \n",
    "    infile=os.path.join(path,subject.strip(),unpack_log)\n",
    "    outfile=os.path.join(path,subject.strip(),raw_cfg)\n",
    "    with open(infile,'r') as in_txt, open(outfile,'w') as out_txt:\n",
    "        for line in in_txt:\n",
    "            if 'ok' in line:\n",
    "                c=line.strip().split()\n",
    "                n=str(c[0])\n",
    "                scan=str(c[1])\n",
    "                num=str(c[7])\n",
    "                x2['a'].append(n)\n",
    "                nifti='NIFTI'\n",
    "                x2['b'].append(scan)\n",
    "                x2['c'].append(nifti)\n",
    "                x2['d'].append(num)\n",
    "\n",
    "def format_cfg(path,subject,raw_cfg,new_cfg):\n",
    "    with open('%s/subjlist.txt' % path ,'r') as sublist:\n",
    "        for subject in sublist:\n",
    "            subdir = os.path.join(path,\"%s/cfg.txt\" % subject.rstrip(' \\n'))\n",
    "            with open(subdir, 'w') as form_cfg:\n",
    "                for a,b,c,d in zip(x2['a'],x2['b'],x2['c'],x2['d']):\n",
    "                    form_cfg.write('\\t'.join([a,b,c,d]) + '\\n')\n",
    "                print 'find cfg.txt formatted in subject %s directory' % subject\n",
    "    return"
   ]
  },
  {
   "cell_type": "markdown",
   "metadata": {},
   "source": [
    "## Read Unpack Log and Write Configuration File"
   ]
  },
  {
   "cell_type": "code",
   "execution_count": null,
   "metadata": {
    "collapsed": true
   },
   "outputs": [],
   "source": [
    "\n",
    "x2={'a':[],'b':[],'c':[],'d':[]}\n",
    "def read_write_cfg(path,subject,unpack_log,raw_cfg): \n",
    "    infile=os.path.join(path,subject.strip(),unpack_log)\n",
    "    outfile=os.path.join(path,subject.strip(),raw_cfg)\n",
    "    with open(infile,'r') as in_txt, open(outfile,'w') as out_txt:\n",
    "        for line in in_txt:\n",
    "            if 'ok' in line:\n",
    "                c=line.strip().split()\n",
    "                n=str(c[0])\n",
    "                scan=str(c[1])\n",
    "                num=str(c[7])\n",
    "                x2['a'].append(n)\n",
    "                nifti='NIFTI'\n",
    "                x2['b'].append(scan)\n",
    "                x2['c'].append(nifti)\n",
    "                x2['d'].append(num)\n",
    "\n",
    "def format_cfg(path,subject,raw_cfg,new_cfg):\n",
    "    with open('%s/subjlist.txt' % path ,'r') as sublist:\n",
    "        for subject in sublist:\n",
    "            subdir = os.path.join(path,\"%s/cfg.txt\" % subject.rstrip(' \\n'))\n",
    "            with open(subdir, 'w') as form_cfg:\n",
    "                for a,b,c,d in zip(x2['a'],x2['b'],x2['c'],x2['d']):\n",
    "                    form_cfg.write('\\t'.join([a,b,c,d]) + '\\n')\n",
    "                print 'find cfg.txt formatted in subject %s directory' % subject\n",
    "    return"
   ]
  },
  {
   "cell_type": "markdown",
   "metadata": {},
   "source": [
    "## unpackdcmsdir - 2"
   ]
  },
  {
   "cell_type": "code",
   "execution_count": null,
   "metadata": {
    "collapsed": true
   },
   "outputs": [],
   "source": [
    "with open('%s/unpacksdcmdir_2.csh' % new_ARC ,'w') as unpacksdcmdir_2, \\\n",
    "open('%s/subjlist.txt' % new_ARC ,'r') as sublist:\n",
    "    subdir = os.path.join(new_ARC,\"%s/cfg.txt\" % subject.rstrip(' \\n'))\n",
    "    for scan,subject in zip(transfer_scanlist,sublist):        \n",
    "        unpacksdcmdir_2.write('unpacksdcmdir -src %s -targ %s/%s -fsfast -cfg %s \\n'\\\n",
    "        % (scan.rstrip(' \\n'), new_ARC.rstrip(' \\n'), subject.rstrip(' \\n'), subdir))\n",
    "    print \"Next: source unpacksdcmdir_2.csh\""
   ]
  },
  {
   "cell_type": "markdown",
   "metadata": {},
   "source": [
    "# APPENDIX / MISC"
   ]
  },
  {
   "cell_type": "markdown",
   "metadata": {},
   "source": [
    "## DICOM to NIFTI"
   ]
  },
  {
   "cell_type": "code",
   "execution_count": null,
   "metadata": {
    "collapsed": true
   },
   "outputs": [],
   "source": [
    "scan_list=['fieldmap_BOLD','AAScout', 'DIFFUSION_HighRes_REVISED', 'fieldmap_BOLD', \\\n",
    "           'fieldmap_generic_DTI', 'fMRI_ASSOCIATIVE_BOLD', 'fMRI_resting_state_1', \\\n",
    "           'fMRI_resting_state_2', 'fMRI_REWARD_BOLD', 'localizer', 'mprage_1mm_iso']\n",
    "\n",
    "output=[]\n",
    "\n",
    "def dicom2nii_get_path(path):\n",
    "    for subject in subject_list:\n",
    "        if subject in os.listdir(path):\n",
    "            for scan in scan_list:\n",
    "                if scan in os.listdir(os.path.join(path,subject)):\n",
    "                    insert=os.path.join(path, subject, scan)\n",
    "                    subdir=os.listdir(insert)\n",
    "                    for item in subdir:\n",
    "                        if item.startswith('0'):\n",
    "                            insert2=os.path.join(path, subject, scan, item)\n",
    "                            dicom1=os.listdir(insert2)[0]\n",
    "                            insert3=os.path.join(path, subject, scan, item, dicom1)\n",
    "                            save_me=output.append(insert3)  \n",
    "    return\n",
    "\n",
    "dicom2nii_get_path('/autofs/space/will_001/users/TLC/pilot_1st20subj/MGH/')"
   ]
  },
  {
   "cell_type": "markdown",
   "metadata": {},
   "source": [
    "## Read Configuration File"
   ]
  },
  {
   "cell_type": "code",
   "execution_count": null,
   "metadata": {
    "collapsed": true
   },
   "outputs": [],
   "source": [
    "def read_cfg(path,subjid,doc): \n",
    "    insert=os.path.join(path, subjid, doc)\n",
    "    doc=open(insert,'r' )\n",
    "    print doc.read()\n",
    "    \n",
    "read_cfg('/autofs/space/will_001/users/TLC/pilot_1st20subj/MGH/','020043MR01','unpack.log')"
   ]
  },
  {
   "cell_type": "markdown",
   "metadata": {},
   "source": [
    "## Read unpack.log and write cfg.txt file\n",
    "Note: Iterates through subjects txt file in lieu of array"
   ]
  },
  {
   "cell_type": "code",
   "execution_count": null,
   "metadata": {
    "collapsed": true
   },
   "outputs": [],
   "source": [
    "def iter_subjlist(path,subject_list,unpack_log,raw_cfg,new_cfg):\n",
    "    subjects=os.path.join(path,subject_list)\n",
    "    with open(subjects,'U') as slist:\n",
    "        for subject in slist: \n",
    "            subject=subject.strip().split()\n",
    "            print(subject)\n",
    "            read_write_cfg(path,subject,unpack_log,raw_cfg)\n",
    "            format_cfg(path,subject,raw_cfg,new_cfg)\n",
    "    return"
   ]
  },
  {
   "cell_type": "code",
   "execution_count": null,
   "metadata": {
    "collapsed": true
   },
   "outputs": [],
   "source": []
  }
 ],
 "metadata": {
  "kernelspec": {
   "display_name": "Python 2",
   "language": "python",
   "name": "python2"
  },
  "language_info": {
   "codemirror_mode": {
    "name": "ipython",
    "version": 2
   },
   "file_extension": ".py",
   "mimetype": "text/x-python",
   "name": "python",
   "nbconvert_exporter": "python",
   "pygments_lexer": "ipython2",
   "version": "2.7.13"
  },
  "toc": {
   "colors": {
    "hover_highlight": "#DAA520",
    "navigate_num": "#000000",
    "navigate_text": "#333333",
    "running_highlight": "#FF0000",
    "selected_highlight": "#FFD700",
    "sidebar_border": "#EEEEEE",
    "wrapper_background": "#FFFFFF"
   },
   "moveMenuLeft": true,
   "nav_menu": {
    "height": "211px",
    "width": "252px"
   },
   "navigate_menu": true,
   "number_sections": true,
   "sideBar": true,
   "threshold": 4,
   "toc_cell": false,
   "toc_section_display": "block",
   "toc_window_display": false,
   "widenNotebook": false
  }
 },
 "nbformat": 4,
 "nbformat_minor": 2
}
